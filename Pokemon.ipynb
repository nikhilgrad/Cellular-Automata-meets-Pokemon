{
 "cells": [
  {
   "cell_type": "code",
   "execution_count": null,
   "id": "c7de9b3e",
   "metadata": {},
   "outputs": [],
   "source": [
    "pip install hexalattice\n"
   ]
  },
  {
   "cell_type": "code",
   "execution_count": null,
   "id": "c689796f",
   "metadata": {},
   "outputs": [],
   "source": [
    "import pygame"
   ]
  },
  {
   "cell_type": "code",
   "execution_count": null,
   "id": "f8f23ef0",
   "metadata": {},
   "outputs": [],
   "source": [
    "import random"
   ]
  },
  {
   "cell_type": "code",
   "execution_count": null,
   "id": "f4117023",
   "metadata": {},
   "outputs": [],
   "source": [
    "import math"
   ]
  },
  {
   "cell_type": "code",
   "execution_count": null,
   "id": "727601fb",
   "metadata": {},
   "outputs": [],
   "source": [
    "from hexalattice.hexalattice import create_hex_grid\n"
   ]
  },
  {
   "cell_type": "markdown",
   "id": "ae3821d5",
   "metadata": {},
   "source": [
    "## Window and Grid dimensions"
   ]
  },
  {
   "cell_type": "code",
   "execution_count": null,
   "id": "85359079",
   "metadata": {},
   "outputs": [],
   "source": [
    "# Window dimensions\n",
    "WIDTH, HEIGHT = 1000, 750\n",
    "\n",
    "# Hexagonal grid dimensions\n",
    "GRID_SIZE = 15"
   ]
  },
  {
   "cell_type": "markdown",
   "id": "a0a9af6e",
   "metadata": {},
   "source": [
    "## Set the images for the pokemons and their power structures "
   ]
  },
  {
   "cell_type": "markdown",
   "id": "51719f3c",
   "metadata": {},
   "source": [
    "This is to give a behavioural pattern to the pokemon cells being created for their growth and transformation of cells."
   ]
  },
  {
   "cell_type": "code",
   "execution_count": null,
   "id": "282844a7",
   "metadata": {},
   "outputs": [],
   "source": [
    "# Pokémon type images\n",
    "POKEMON_IMAGES = {\n",
    "    'Fire': 'Charmander.png',\n",
    "    'Water': 'Squirtle.png',\n",
    "    'Grass': 'Bulbasaur.png',\n",
    "    'Flying': 'Pidgeotto.png',\n",
    "    'Electric': 'Pikachu.png',\n",
    "    'Rock': 'Geodude.png'\n",
    "}\n",
    "\n",
    "\n",
    "# Overpowering structure\n",
    "OVERPOWER = {\n",
    "    'Flying': ['Grass', 'Rock'],\n",
    "    'Water': ['Fire', 'Rock'],\n",
    "    \n",
    "    'Fire': ['Grass', 'Flying'],\n",
    "    'Electric': ['Water', 'Flying'],\n",
    "    \n",
    "    'Grass': ['Water', 'Electric'],\n",
    "    'Rock': ['Fire', 'Electric']\n",
    "}\n"
   ]
  },
  {
   "cell_type": "code",
   "execution_count": null,
   "id": "aa7ee226",
   "metadata": {},
   "outputs": [],
   "source": []
  },
  {
   "cell_type": "code",
   "execution_count": null,
   "id": "e7694fc7",
   "metadata": {},
   "outputs": [],
   "source": []
  },
  {
   "cell_type": "code",
   "execution_count": null,
   "id": "868a9a18",
   "metadata": {},
   "outputs": [],
   "source": [
    "# Initialize Pygame\n",
    "pygame.init()\n",
    "screen = pygame.display.set_mode((WIDTH, HEIGHT))\n",
    "clock = pygame.time.Clock()\n",
    "\n",
    "class Hexagon:\n",
    "    \n",
    "    def __init__(self, x, y, image=None):\n",
    "        self.x = x\n",
    "        self.y = y\n",
    "        self.image = image\n",
    "        self.type = None\n",
    "        self.colored_by = None\n",
    "        self.neighbors = []\n",
    "        \n",
    "    def draw(self):\n",
    "        # Draw hexagon border\n",
    "        points = self.calculate_hexagon_points(self.x, self.y, 20)\n",
    "        pygame.draw.polygon(screen, (0, 0, 0), points, 2)  # Black border\n",
    "        \n",
    "        # Draw hexagon color\n",
    "        if self.colored_by:\n",
    "            color = {\n",
    "                'Water': (0, 0, 255),\n",
    "                'Flying': (55, 55, 55),\n",
    "                \n",
    "                'Fire': (255, 0, 0),\n",
    "                'Electric': (255, 255, 0),\n",
    "                \n",
    "                'Grass': (0, 255, 0),\n",
    "                'Rock': (252, 205, 200)\n",
    "            }[self.colored_by]\n",
    "            pygame.draw.polygon(screen, color, points)\n",
    "\n",
    "        # Draw hexagon image\n",
    "        if self.image:\n",
    "            try:\n",
    "                image = pygame.image.load(self.image)\n",
    "                image = pygame.transform.scale(image, (40, 40))\n",
    "                screen.blit(image, (self.x-20, self.y-20))  # Adjust position to center the image\n",
    "            except pygame.error as e:\n",
    "                print(f\"Error loading image {self.image}: {e}\")\n",
    "\n",
    "\n",
    "    def calculate_hexagon_points(self, x, y, size):\n",
    "        points = []\n",
    "        for i in range(6):\n",
    "            angle = math.radians(60 * i)\n",
    "            point_x = x + size * math.cos(angle)\n",
    "            point_y = y + size * math.sin(angle)\n",
    "            points.append((point_x, point_y))\n",
    "        return points\n",
    "\n",
    "\n",
    "def create_hex_grid_pygame(nx, ny):\n",
    "    hex_centers, _ = create_hex_grid(nx=nx, ny=ny, do_plot=False)\n",
    "    grid = []\n",
    "    \n",
    "    # Calculate offsets to center the grid\n",
    "    min_x = min(center[0] for center in hex_centers)\n",
    "    max_x = max(center[0] for center in hex_centers)\n",
    "    min_y = min(center[1] for center in hex_centers)\n",
    "    max_y = max(center[1] for center in hex_centers)\n",
    "    \n",
    "    grid_width = ((max_x - min_x) * 1)\n",
    "    grid_height =((max_y - min_y) * 1)\n",
    "    \n",
    "    offset_x = (WIDTH - grid_width) / 2\n",
    "    offset_y = (HEIGHT - grid_height) / 2\n",
    "    \n",
    "    for center in hex_centers:\n",
    "        x, y = center\n",
    "        grid.append(Hexagon(x * 40 + offset_x, y * 40 + offset_y))  # Adjust scaling and position as needed\n",
    "    return grid\n",
    "\n",
    "\n",
    "def assign_neighbors(grid):\n",
    "    for hexagon in grid:\n",
    "        for neighbor in grid:\n",
    "            if hexagon != neighbor and math.dist((hexagon.x, hexagon.y), (neighbor.x, neighbor.y)) < 50:\n",
    "                hexagon.neighbors.append(neighbor)\n",
    "\n",
    "\n",
    "def initialize_pokemon(grid):\n",
    "    pokemon_types = list(POKEMON_IMAGES.keys())\n",
    "    random.shuffle(pokemon_types)\n",
    "    for pokemon_type in pokemon_types:\n",
    "        hexagon = random.choice(grid)\n",
    "        while hexagon.type is not None:\n",
    "            hexagon = random.choice(grid)\n",
    "        hexagon.type = pokemon_type\n",
    "        hexagon.image = POKEMON_IMAGES[pokemon_type]\n",
    "        hexagon.colored_by = pokemon_type\n",
    "\n",
    "        \n",
    "def move_pokemon(grid):\n",
    "    for hexagon in grid:\n",
    "        if hexagon.type:\n",
    "            target = random.choice(hexagon.neighbors)\n",
    "            if target.type:\n",
    "                if target.type in OVERPOWER[hexagon.type]:\n",
    "                    # Overpowering logic\n",
    "                    target.type = hexagon.type\n",
    "                    target.image = POKEMON_IMAGES[hexagon.type]\n",
    "                    target.colored_by = hexagon.type\n",
    "                    hexagon.type = None\n",
    "                    hexagon.image = None\n",
    "                # Remove the else block to prevent exchanging positions\n",
    "            else:\n",
    "                # Move to empty cell\n",
    "                target.type = hexagon.type\n",
    "                target.image = POKEMON_IMAGES[hexagon.type]\n",
    "                target.colored_by = hexagon.type\n",
    "                hexagon.type = None\n",
    "                hexagon.image = None\n",
    "\n",
    "\n",
    "                \n",
    "def regenerate_pokemon(grid):\n",
    "    for hexagon in grid:\n",
    "        if hexagon.type is None and hexagon.colored_by:\n",
    "            # Ensure the cell is not colored by another type\n",
    "            if all(h.colored_by != hexagon.colored_by for h in hexagon.neighbors):\n",
    "                hexagon.type = hexagon.colored_by\n",
    "                hexagon.image = POKEMON_IMAGES[hexagon.colored_by]\n",
    "\n",
    "                  \n",
    "def draw_grid(grid):\n",
    "    screen.fill((255, 255, 255))\n",
    "    for hexagon in grid:\n",
    "        hexagon.draw()\n",
    "    pygame.display.update()\n",
    "    \n",
    "\n",
    "def count_captured_cells(grid):\n",
    "    counts = {ptype: 0 for ptype in POKEMON_IMAGES.keys()}\n",
    "    for hexagon in grid:\n",
    "        if hexagon.colored_by:\n",
    "            counts[hexagon.colored_by] += 1\n",
    "    return counts\n",
    "\n",
    "\n",
    "def check_remaining_types(grid):\n",
    "    remaining_types = set(hexagon.colored_by for hexagon in grid if hexagon.colored_by)\n",
    "    if len(remaining_types) == 2:\n",
    "        type1, type2 = remaining_types\n",
    "        if type1 not in OVERPOWER[type2] and type2 not in OVERPOWER[type1]:\n",
    "            return True\n",
    "    elif len(remaining_types) <= 1:\n",
    "        return len(remaining_types) <= 1\n",
    "    return False\n",
    "\n",
    "\n",
    "def main():\n",
    "    grid = create_hex_grid_pygame(GRID_SIZE, GRID_SIZE)\n",
    "    assign_neighbors(grid)\n",
    "    initialize_pokemon(grid)\n",
    "    start_time = pygame.time.get_ticks()\n",
    "    running = True\n",
    "    while running:\n",
    "        for event in pygame.event.get():\n",
    "            if event.type == pygame.QUIT:\n",
    "                running = False\n",
    "        current_time = pygame.time.get_ticks()\n",
    "        if current_time - start_time > 5000:  # 5 seconds delay\n",
    "            move_pokemon(grid)\n",
    "            regenerate_pokemon(grid)  # Add this line to regenerate Pokémon\n",
    "            if check_remaining_types(grid):\n",
    "                running = False\n",
    "        draw_grid(grid)\n",
    "        clock.tick(1)  # Adjust the speed as needed\n",
    "    counts = count_captured_cells(grid)\n",
    "    print(\"Simulation ended. Captured cells count:\")\n",
    "    for ptype, count in counts.items():\n",
    "        print(f\"{ptype}: {count}\")\n",
    "    pygame.quit()\n",
    "\n",
    "if __name__ == \"__main__\":\n",
    "    main()"
   ]
  },
  {
   "cell_type": "markdown",
   "id": "13998d28",
   "metadata": {},
   "source": [
    "\n",
    "\n",
    "\n",
    "\n"
   ]
  },
  {
   "cell_type": "code",
   "execution_count": null,
   "id": "0a42964a",
   "metadata": {},
   "outputs": [],
   "source": []
  },
  {
   "cell_type": "code",
   "execution_count": null,
   "id": "f3dec0e5",
   "metadata": {},
   "outputs": [],
   "source": []
  },
  {
   "cell_type": "code",
   "execution_count": null,
   "id": "f0e32d0c",
   "metadata": {},
   "outputs": [],
   "source": []
  },
  {
   "cell_type": "code",
   "execution_count": null,
   "id": "569e4caf",
   "metadata": {},
   "outputs": [],
   "source": []
  },
  {
   "cell_type": "code",
   "execution_count": null,
   "id": "2ec700e7",
   "metadata": {},
   "outputs": [],
   "source": [
    "pygame.quit()"
   ]
  },
  {
   "cell_type": "code",
   "execution_count": null,
   "id": "1486fb01",
   "metadata": {},
   "outputs": [],
   "source": []
  },
  {
   "cell_type": "code",
   "execution_count": null,
   "id": "25f4d278",
   "metadata": {},
   "outputs": [],
   "source": []
  },
  {
   "cell_type": "code",
   "execution_count": null,
   "id": "9eb92e83",
   "metadata": {},
   "outputs": [],
   "source": []
  },
  {
   "cell_type": "code",
   "execution_count": null,
   "id": "edd450cf",
   "metadata": {},
   "outputs": [],
   "source": []
  },
  {
   "cell_type": "code",
   "execution_count": null,
   "id": "7490a1db",
   "metadata": {},
   "outputs": [],
   "source": []
  },
  {
   "cell_type": "code",
   "execution_count": null,
   "id": "42ad6a93",
   "metadata": {},
   "outputs": [],
   "source": []
  },
  {
   "cell_type": "code",
   "execution_count": null,
   "id": "bab3290f",
   "metadata": {},
   "outputs": [],
   "source": []
  },
  {
   "cell_type": "code",
   "execution_count": null,
   "id": "86c07166",
   "metadata": {},
   "outputs": [],
   "source": []
  },
  {
   "cell_type": "code",
   "execution_count": null,
   "id": "da986f2c",
   "metadata": {},
   "outputs": [],
   "source": []
  },
  {
   "cell_type": "code",
   "execution_count": null,
   "id": "1ab36c06",
   "metadata": {},
   "outputs": [],
   "source": []
  },
  {
   "cell_type": "code",
   "execution_count": null,
   "id": "05768ac7",
   "metadata": {},
   "outputs": [],
   "source": []
  },
  {
   "cell_type": "code",
   "execution_count": null,
   "id": "c6a2948f",
   "metadata": {},
   "outputs": [],
   "source": []
  },
  {
   "cell_type": "code",
   "execution_count": null,
   "id": "c4fd5b2c",
   "metadata": {},
   "outputs": [],
   "source": []
  },
  {
   "cell_type": "code",
   "execution_count": null,
   "id": "9f4b199f",
   "metadata": {},
   "outputs": [],
   "source": []
  },
  {
   "cell_type": "code",
   "execution_count": null,
   "id": "67f8d3b3",
   "metadata": {},
   "outputs": [],
   "source": []
  },
  {
   "cell_type": "code",
   "execution_count": null,
   "id": "d65046d3",
   "metadata": {},
   "outputs": [],
   "source": []
  }
 ],
 "metadata": {
  "kernelspec": {
   "display_name": "Python 3 (ipykernel)",
   "language": "python",
   "name": "python3"
  },
  "language_info": {
   "codemirror_mode": {
    "name": "ipython",
    "version": 3
   },
   "file_extension": ".py",
   "mimetype": "text/x-python",
   "name": "python",
   "nbconvert_exporter": "python",
   "pygments_lexer": "ipython3",
   "version": "3.9.13"
  }
 },
 "nbformat": 4,
 "nbformat_minor": 5
}
